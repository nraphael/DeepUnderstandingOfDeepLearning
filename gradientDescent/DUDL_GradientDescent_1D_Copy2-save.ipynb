{
 "nbformat": 4,
 "nbformat_minor": 0,
 "metadata": {
  "colab": {
   "provenance": [
    {
     "file_id": "1qFigOOWXcSNyA6hPpZnF-QqhFEB1e-hy",
     "timestamp": 1597210805829
    },
    {
     "file_id": "1kGRo0g3UXxXpJuQSEtpKjEGA1Vxbaz8S",
     "timestamp": 1597128018290
    },
    {
     "file_id": "1U4oG0A3DFC-XBWhvecYeA3YYReqHpShX",
     "timestamp": 1594575042741
    }
   ],
   "authorship_tag": "ABX9TyPYoewyzb58f8ctFslnMpqP"
  },
  "kernelspec": {
   "name": "python3",
   "display_name": "Python 3 (ipykernel)",
   "language": "python"
  }
 },
 "cells": [
  {
   "cell_type": "markdown",
   "metadata": {
    "id": "bhWV8oes-wKR"
   },
   "source": [
    "# COURSE: A deep understanding of deep learning\n",
    "## SECTION: Gradient descent\n",
    "### LECTURE: Gradient descent in 1D\n",
    "#### TEACHER: Mike X Cohen, sincxpress.com\n",
    "##### COURSE URL: udemy.com/course/deeplearning_x/?couponCode=202401"
   ]
  },
  {
   "cell_type": "code",
   "metadata": {
    "id": "JL_0UKJOj1YP",
    "ExecuteTime": {
     "end_time": "2025-04-09T22:02:46.316278Z",
     "start_time": "2025-04-09T22:02:44.952470Z"
    }
   },
   "source": [
    "# import all necessary modules\n",
    "import numpy as np\n",
    "import matplotlib.pyplot as plt\n",
    "\n",
    "import matplotlib_inline.backend_inline\n",
    "matplotlib_inline.backend_inline.set_matplotlib_formats('svg')\n",
    "\n",
    "import math\n",
    "import sympy\n",
    "import sympy.plotting.plot as symplot"
   ],
   "outputs": [],
   "execution_count": 2
  },
  {
   "metadata": {},
   "cell_type": "markdown",
   "source": "# First Code Challenge - different function and deriv"
  },
  {
   "metadata": {},
   "cell_type": "raw",
   "source": ""
  },
  {
   "cell_type": "markdown",
   "metadata": {
    "id": "OeYMLgEvZY1X"
   },
   "source": [
    "# Gradient descent in 1D"
   ]
  },
  {
   "cell_type": "code",
   "metadata": {
    "id": "YwTBzVJsoKbg",
    "ExecuteTime": {
     "end_time": "2025-04-09T22:24:32.806013Z",
     "start_time": "2025-04-09T22:24:32.788134Z"
    }
   },
   "source": [
    "\n",
    "def fx(x):\n",
    "    return x ** 2 + (np.cos(2 * math.pi * x))\n",
    "\n",
    "    # return x ** 2 + (math.cos(2 * math.pi * x))\n",
    "\n",
    "#2*x - 2*pi*sin(2*pi*x)\n",
    "def df_dx(x):\n",
    "    return 2 * x - 2 * math.pi * np.sin(2 * math.pi *x)\n",
    "\n",
    "print(fx)\n",
    "print(df_dx)\n",
    "\n"
   ],
   "outputs": [
    {
     "name": "stdout",
     "output_type": "stream",
     "text": [
      "<function fx at 0x1070b0940>\n",
      "<function df_dx at 0x10705fb80>\n"
     ]
    }
   ],
   "execution_count": 18
  },
  {
   "cell_type": "code",
   "metadata": {
    "id": "_qRE_fHqUL6n",
    "ExecuteTime": {
     "end_time": "2025-04-09T22:24:37.319819Z",
     "start_time": "2025-04-09T22:24:37.175462Z"
    }
   },
   "source": [
    "# plot the function and its derivative\n",
    "\n",
    "# define a range for x\n",
    "x = np.linspace(-2,2,2001)\n",
    "\n",
    "# plotting\n",
    "plt.plot(x,fx(x), x,df_dx(x))\n",
    "\n",
    "plt.xlim(x[[0,-1]])\n",
    "plt.grid()\n",
    "plt.xlabel('x')\n",
    "plt.ylabel('fx(x)')\n",
    "plt.legend(['y','dy'])\n",
    "plt.show()"
   ],
   "outputs": [
    {
     "data": {
      "text/plain": [
       "<Figure size 640x480 with 1 Axes>"
      ],
      "image/svg+xml": "<?xml version=\"1.0\" encoding=\"utf-8\" standalone=\"no\"?>\n<!DOCTYPE svg PUBLIC \"-//W3C//DTD SVG 1.1//EN\"\n  \"http://www.w3.org/Graphics/SVG/1.1/DTD/svg11.dtd\">\n<svg xmlns:xlink=\"http://www.w3.org/1999/xlink\" width=\"430.795pt\" height=\"310.86825pt\" viewBox=\"0 0 430.795 310.86825\" xmlns=\"http://www.w3.org/2000/svg\" version=\"1.1\">\n <metadata>\n  <rdf:RDF xmlns:dc=\"http://purl.org/dc/elements/1.1/\" xmlns:cc=\"http://creativecommons.org/ns#\" xmlns:rdf=\"http://www.w3.org/1999/02/22-rdf-syntax-ns#\">\n   <cc:Work>\n    <dc:type rdf:resource=\"http://purl.org/dc/dcmitype/StillImage\"/>\n    <dc:date>2025-04-09T18:24:37.300034</dc:date>\n    <dc:format>image/svg+xml</dc:format>\n    <dc:creator>\n     <cc:Agent>\n      <dc:title>Matplotlib v3.9.4, https://matplotlib.org/</dc:title>\n     </cc:Agent>\n    </dc:creator>\n   </cc:Work>\n  </rdf:RDF>\n </metadata>\n <defs>\n  <style type=\"text/css\">*{stroke-linejoin: round; stroke-linecap: butt}</style>\n </defs>\n <g id=\"figure_1\">\n  <g id=\"patch_1\">\n   <path d=\"M 0 310.86825 \nL 430.795 310.86825 \nL 430.795 0 \nL 0 0 \nz\n\" style=\"fill: #ffffff\"/>\n  </g>\n  <g id=\"axes_1\">\n   <g id=\"patch_2\">\n    <path d=\"M 58.523438 273.312 \nL 415.643438 273.312 \nL 415.643438 7.2 \nL 58.523438 7.2 \nz\n\" style=\"fill: #ffffff\"/>\n   </g>\n   <g id=\"matplotlib.axis_1\">\n    <g id=\"xtick_1\">\n     <g id=\"line2d_1\">\n      <path d=\"M 58.523438 273.312 \nL 58.523438 7.2 \n\" clip-path=\"url(#p32dfc70754)\" style=\"fill: none; stroke: #b0b0b0; stroke-width: 0.8; stroke-linecap: square\"/>\n     </g>\n     <g id=\"line2d_2\">\n      <defs>\n       <path id=\"mca2e2122e1\" d=\"M 0 0 \nL 0 3.5 \n\" style=\"stroke: #000000; stroke-width: 0.8\"/>\n      </defs>\n      <g>\n       <use xlink:href=\"#mca2e2122e1\" x=\"58.523438\" y=\"273.312\" style=\"stroke: #000000; stroke-width: 0.8\"/>\n      </g>\n     </g>\n     <g id=\"text_1\">\n      <!-- −2.0 -->\n      <g transform=\"translate(46.382031 287.910437) scale(0.1 -0.1)\">\n       <defs>\n        <path id=\"DejaVuSans-2212\" d=\"M 678 2272 \nL 4684 2272 \nL 4684 1741 \nL 678 1741 \nL 678 2272 \nz\n\" transform=\"scale(0.015625)\"/>\n        <path id=\"DejaVuSans-32\" d=\"M 1228 531 \nL 3431 531 \nL 3431 0 \nL 469 0 \nL 469 531 \nQ 828 903 1448 1529 \nQ 2069 2156 2228 2338 \nQ 2531 2678 2651 2914 \nQ 2772 3150 2772 3378 \nQ 2772 3750 2511 3984 \nQ 2250 4219 1831 4219 \nQ 1534 4219 1204 4116 \nQ 875 4013 500 3803 \nL 500 4441 \nQ 881 4594 1212 4672 \nQ 1544 4750 1819 4750 \nQ 2544 4750 2975 4387 \nQ 3406 4025 3406 3419 \nQ 3406 3131 3298 2873 \nQ 3191 2616 2906 2266 \nQ 2828 2175 2409 1742 \nQ 1991 1309 1228 531 \nz\n\" transform=\"scale(0.015625)\"/>\n        <path id=\"DejaVuSans-2e\" d=\"M 684 794 \nL 1344 794 \nL 1344 0 \nL 684 0 \nL 684 794 \nz\n\" transform=\"scale(0.015625)\"/>\n        <path id=\"DejaVuSans-30\" d=\"M 2034 4250 \nQ 1547 4250 1301 3770 \nQ 1056 3291 1056 2328 \nQ 1056 1369 1301 889 \nQ 1547 409 2034 409 \nQ 2525 409 2770 889 \nQ 3016 1369 3016 2328 \nQ 3016 3291 2770 3770 \nQ 2525 4250 2034 4250 \nz\nM 2034 4750 \nQ 2819 4750 3233 4129 \nQ 3647 3509 3647 2328 \nQ 3647 1150 3233 529 \nQ 2819 -91 2034 -91 \nQ 1250 -91 836 529 \nQ 422 1150 422 2328 \nQ 422 3509 836 4129 \nQ 1250 4750 2034 4750 \nz\n\" transform=\"scale(0.015625)\"/>\n       </defs>\n       <use xlink:href=\"#DejaVuSans-2212\"/>\n       <use xlink:href=\"#DejaVuSans-32\" x=\"83.789062\"/>\n       <use xlink:href=\"#DejaVuSans-2e\" x=\"147.412109\"/>\n       <use xlink:href=\"#DejaVuSans-30\" x=\"179.199219\"/>\n      </g>\n     </g>\n    </g>\n    <g id=\"xtick_2\">\n     <g id=\"line2d_3\">\n      <path d=\"M 103.163437 273.312 \nL 103.163437 7.2 \n\" clip-path=\"url(#p32dfc70754)\" style=\"fill: none; stroke: #b0b0b0; stroke-width: 0.8; stroke-linecap: square\"/>\n     </g>\n     <g id=\"line2d_4\">\n      <g>\n       <use xlink:href=\"#mca2e2122e1\" x=\"103.163437\" y=\"273.312\" style=\"stroke: #000000; stroke-width: 0.8\"/>\n      </g>\n     </g>\n     <g id=\"text_2\">\n      <!-- −1.5 -->\n      <g transform=\"translate(91.022031 287.910437) scale(0.1 -0.1)\">\n       <defs>\n        <path id=\"DejaVuSans-31\" d=\"M 794 531 \nL 1825 531 \nL 1825 4091 \nL 703 3866 \nL 703 4441 \nL 1819 4666 \nL 2450 4666 \nL 2450 531 \nL 3481 531 \nL 3481 0 \nL 794 0 \nL 794 531 \nz\n\" transform=\"scale(0.015625)\"/>\n        <path id=\"DejaVuSans-35\" d=\"M 691 4666 \nL 3169 4666 \nL 3169 4134 \nL 1269 4134 \nL 1269 2991 \nQ 1406 3038 1543 3061 \nQ 1681 3084 1819 3084 \nQ 2600 3084 3056 2656 \nQ 3513 2228 3513 1497 \nQ 3513 744 3044 326 \nQ 2575 -91 1722 -91 \nQ 1428 -91 1123 -41 \nQ 819 9 494 109 \nL 494 744 \nQ 775 591 1075 516 \nQ 1375 441 1709 441 \nQ 2250 441 2565 725 \nQ 2881 1009 2881 1497 \nQ 2881 1984 2565 2268 \nQ 2250 2553 1709 2553 \nQ 1456 2553 1204 2497 \nQ 953 2441 691 2322 \nL 691 4666 \nz\n\" transform=\"scale(0.015625)\"/>\n       </defs>\n       <use xlink:href=\"#DejaVuSans-2212\"/>\n       <use xlink:href=\"#DejaVuSans-31\" x=\"83.789062\"/>\n       <use xlink:href=\"#DejaVuSans-2e\" x=\"147.412109\"/>\n       <use xlink:href=\"#DejaVuSans-35\" x=\"179.199219\"/>\n      </g>\n     </g>\n    </g>\n    <g id=\"xtick_3\">\n     <g id=\"line2d_5\">\n      <path d=\"M 147.803438 273.312 \nL 147.803438 7.2 \n\" clip-path=\"url(#p32dfc70754)\" style=\"fill: none; stroke: #b0b0b0; stroke-width: 0.8; stroke-linecap: square\"/>\n     </g>\n     <g id=\"line2d_6\">\n      <g>\n       <use xlink:href=\"#mca2e2122e1\" x=\"147.803438\" y=\"273.312\" style=\"stroke: #000000; stroke-width: 0.8\"/>\n      </g>\n     </g>\n     <g id=\"text_3\">\n      <!-- −1.0 -->\n      <g transform=\"translate(135.662031 287.910437) scale(0.1 -0.1)\">\n       <use xlink:href=\"#DejaVuSans-2212\"/>\n       <use xlink:href=\"#DejaVuSans-31\" x=\"83.789062\"/>\n       <use xlink:href=\"#DejaVuSans-2e\" x=\"147.412109\"/>\n       <use xlink:href=\"#DejaVuSans-30\" x=\"179.199219\"/>\n      </g>\n     </g>\n    </g>\n    <g id=\"xtick_4\">\n     <g id=\"line2d_7\">\n      <path d=\"M 192.443438 273.312 \nL 192.443438 7.2 \n\" clip-path=\"url(#p32dfc70754)\" style=\"fill: none; stroke: #b0b0b0; stroke-width: 0.8; stroke-linecap: square\"/>\n     </g>\n     <g id=\"line2d_8\">\n      <g>\n       <use xlink:href=\"#mca2e2122e1\" x=\"192.443438\" y=\"273.312\" style=\"stroke: #000000; stroke-width: 0.8\"/>\n      </g>\n     </g>\n     <g id=\"text_4\">\n      <!-- −0.5 -->\n      <g transform=\"translate(180.302031 287.910437) scale(0.1 -0.1)\">\n       <use xlink:href=\"#DejaVuSans-2212\"/>\n       <use xlink:href=\"#DejaVuSans-30\" x=\"83.789062\"/>\n       <use xlink:href=\"#DejaVuSans-2e\" x=\"147.412109\"/>\n       <use xlink:href=\"#DejaVuSans-35\" x=\"179.199219\"/>\n      </g>\n     </g>\n    </g>\n    <g id=\"xtick_5\">\n     <g id=\"line2d_9\">\n      <path d=\"M 237.083438 273.312 \nL 237.083438 7.2 \n\" clip-path=\"url(#p32dfc70754)\" style=\"fill: none; stroke: #b0b0b0; stroke-width: 0.8; stroke-linecap: square\"/>\n     </g>\n     <g id=\"line2d_10\">\n      <g>\n       <use xlink:href=\"#mca2e2122e1\" x=\"237.083438\" y=\"273.312\" style=\"stroke: #000000; stroke-width: 0.8\"/>\n      </g>\n     </g>\n     <g id=\"text_5\">\n      <!-- 0.0 -->\n      <g transform=\"translate(229.131875 287.910437) scale(0.1 -0.1)\">\n       <use xlink:href=\"#DejaVuSans-30\"/>\n       <use xlink:href=\"#DejaVuSans-2e\" x=\"63.623047\"/>\n       <use xlink:href=\"#DejaVuSans-30\" x=\"95.410156\"/>\n      </g>\n     </g>\n    </g>\n    <g id=\"xtick_6\">\n     <g id=\"line2d_11\">\n      <path d=\"M 281.723437 273.312 \nL 281.723437 7.2 \n\" clip-path=\"url(#p32dfc70754)\" style=\"fill: none; stroke: #b0b0b0; stroke-width: 0.8; stroke-linecap: square\"/>\n     </g>\n     <g id=\"line2d_12\">\n      <g>\n       <use xlink:href=\"#mca2e2122e1\" x=\"281.723437\" y=\"273.312\" style=\"stroke: #000000; stroke-width: 0.8\"/>\n      </g>\n     </g>\n     <g id=\"text_6\">\n      <!-- 0.5 -->\n      <g transform=\"translate(273.771875 287.910437) scale(0.1 -0.1)\">\n       <use xlink:href=\"#DejaVuSans-30\"/>\n       <use xlink:href=\"#DejaVuSans-2e\" x=\"63.623047\"/>\n       <use xlink:href=\"#DejaVuSans-35\" x=\"95.410156\"/>\n      </g>\n     </g>\n    </g>\n    <g id=\"xtick_7\">\n     <g id=\"line2d_13\">\n      <path d=\"M 326.363438 273.312 \nL 326.363438 7.2 \n\" clip-path=\"url(#p32dfc70754)\" style=\"fill: none; stroke: #b0b0b0; stroke-width: 0.8; stroke-linecap: square\"/>\n     </g>\n     <g id=\"line2d_14\">\n      <g>\n       <use xlink:href=\"#mca2e2122e1\" x=\"326.363438\" y=\"273.312\" style=\"stroke: #000000; stroke-width: 0.8\"/>\n      </g>\n     </g>\n     <g id=\"text_7\">\n      <!-- 1.0 -->\n      <g transform=\"translate(318.411875 287.910437) scale(0.1 -0.1)\">\n       <use xlink:href=\"#DejaVuSans-31\"/>\n       <use xlink:href=\"#DejaVuSans-2e\" x=\"63.623047\"/>\n       <use xlink:href=\"#DejaVuSans-30\" x=\"95.410156\"/>\n      </g>\n     </g>\n    </g>\n    <g id=\"xtick_8\">\n     <g id=\"line2d_15\">\n      <path d=\"M 371.003438 273.312 \nL 371.003438 7.2 \n\" clip-path=\"url(#p32dfc70754)\" style=\"fill: none; stroke: #b0b0b0; stroke-width: 0.8; stroke-linecap: square\"/>\n     </g>\n     <g id=\"line2d_16\">\n      <g>\n       <use xlink:href=\"#mca2e2122e1\" x=\"371.003438\" y=\"273.312\" style=\"stroke: #000000; stroke-width: 0.8\"/>\n      </g>\n     </g>\n     <g id=\"text_8\">\n      <!-- 1.5 -->\n      <g transform=\"translate(363.051875 287.910437) scale(0.1 -0.1)\">\n       <use xlink:href=\"#DejaVuSans-31\"/>\n       <use xlink:href=\"#DejaVuSans-2e\" x=\"63.623047\"/>\n       <use xlink:href=\"#DejaVuSans-35\" x=\"95.410156\"/>\n      </g>\n     </g>\n    </g>\n    <g id=\"xtick_9\">\n     <g id=\"line2d_17\">\n      <path d=\"M 415.643438 273.312 \nL 415.643438 7.2 \n\" clip-path=\"url(#p32dfc70754)\" style=\"fill: none; stroke: #b0b0b0; stroke-width: 0.8; stroke-linecap: square\"/>\n     </g>\n     <g id=\"line2d_18\">\n      <g>\n       <use xlink:href=\"#mca2e2122e1\" x=\"415.643438\" y=\"273.312\" style=\"stroke: #000000; stroke-width: 0.8\"/>\n      </g>\n     </g>\n     <g id=\"text_9\">\n      <!-- 2.0 -->\n      <g transform=\"translate(407.691875 287.910437) scale(0.1 -0.1)\">\n       <use xlink:href=\"#DejaVuSans-32\"/>\n       <use xlink:href=\"#DejaVuSans-2e\" x=\"63.623047\"/>\n       <use xlink:href=\"#DejaVuSans-30\" x=\"95.410156\"/>\n      </g>\n     </g>\n    </g>\n    <g id=\"text_10\">\n     <!-- x -->\n     <g transform=\"translate(234.124063 301.588562) scale(0.1 -0.1)\">\n      <defs>\n       <path id=\"DejaVuSans-78\" d=\"M 3513 3500 \nL 2247 1797 \nL 3578 0 \nL 2900 0 \nL 1881 1375 \nL 863 0 \nL 184 0 \nL 1544 1831 \nL 300 3500 \nL 978 3500 \nL 1906 2253 \nL 2834 3500 \nL 3513 3500 \nz\n\" transform=\"scale(0.015625)\"/>\n      </defs>\n      <use xlink:href=\"#DejaVuSans-78\"/>\n     </g>\n    </g>\n   </g>\n   <g id=\"matplotlib.axis_2\">\n    <g id=\"ytick_1\">\n     <g id=\"line2d_19\">\n      <path d=\"M 58.523438 263.794882 \nL 415.643438 263.794882 \n\" clip-path=\"url(#p32dfc70754)\" style=\"fill: none; stroke: #b0b0b0; stroke-width: 0.8; stroke-linecap: square\"/>\n     </g>\n     <g id=\"line2d_20\">\n      <defs>\n       <path id=\"m326901ac7d\" d=\"M 0 0 \nL -3.5 0 \n\" style=\"stroke: #000000; stroke-width: 0.8\"/>\n      </defs>\n      <g>\n       <use xlink:href=\"#m326901ac7d\" x=\"58.523438\" y=\"263.794882\" style=\"stroke: #000000; stroke-width: 0.8\"/>\n      </g>\n     </g>\n     <g id=\"text_11\">\n      <!-- −10.0 -->\n      <g transform=\"translate(20.878125 267.594101) scale(0.1 -0.1)\">\n       <use xlink:href=\"#DejaVuSans-2212\"/>\n       <use xlink:href=\"#DejaVuSans-31\" x=\"83.789062\"/>\n       <use xlink:href=\"#DejaVuSans-30\" x=\"147.412109\"/>\n       <use xlink:href=\"#DejaVuSans-2e\" x=\"211.035156\"/>\n       <use xlink:href=\"#DejaVuSans-30\" x=\"242.822266\"/>\n      </g>\n     </g>\n    </g>\n    <g id=\"ytick_2\">\n     <g id=\"line2d_21\">\n      <path d=\"M 58.523438 232.910161 \nL 415.643438 232.910161 \n\" clip-path=\"url(#p32dfc70754)\" style=\"fill: none; stroke: #b0b0b0; stroke-width: 0.8; stroke-linecap: square\"/>\n     </g>\n     <g id=\"line2d_22\">\n      <g>\n       <use xlink:href=\"#m326901ac7d\" x=\"58.523438\" y=\"232.910161\" style=\"stroke: #000000; stroke-width: 0.8\"/>\n      </g>\n     </g>\n     <g id=\"text_12\">\n      <!-- −7.5 -->\n      <g transform=\"translate(27.240625 236.70938) scale(0.1 -0.1)\">\n       <defs>\n        <path id=\"DejaVuSans-37\" d=\"M 525 4666 \nL 3525 4666 \nL 3525 4397 \nL 1831 0 \nL 1172 0 \nL 2766 4134 \nL 525 4134 \nL 525 4666 \nz\n\" transform=\"scale(0.015625)\"/>\n       </defs>\n       <use xlink:href=\"#DejaVuSans-2212\"/>\n       <use xlink:href=\"#DejaVuSans-37\" x=\"83.789062\"/>\n       <use xlink:href=\"#DejaVuSans-2e\" x=\"147.412109\"/>\n       <use xlink:href=\"#DejaVuSans-35\" x=\"179.199219\"/>\n      </g>\n     </g>\n    </g>\n    <g id=\"ytick_3\">\n     <g id=\"line2d_23\">\n      <path d=\"M 58.523438 202.025441 \nL 415.643438 202.025441 \n\" clip-path=\"url(#p32dfc70754)\" style=\"fill: none; stroke: #b0b0b0; stroke-width: 0.8; stroke-linecap: square\"/>\n     </g>\n     <g id=\"line2d_24\">\n      <g>\n       <use xlink:href=\"#m326901ac7d\" x=\"58.523438\" y=\"202.025441\" style=\"stroke: #000000; stroke-width: 0.8\"/>\n      </g>\n     </g>\n     <g id=\"text_13\">\n      <!-- −5.0 -->\n      <g transform=\"translate(27.240625 205.82466) scale(0.1 -0.1)\">\n       <use xlink:href=\"#DejaVuSans-2212\"/>\n       <use xlink:href=\"#DejaVuSans-35\" x=\"83.789062\"/>\n       <use xlink:href=\"#DejaVuSans-2e\" x=\"147.412109\"/>\n       <use xlink:href=\"#DejaVuSans-30\" x=\"179.199219\"/>\n      </g>\n     </g>\n    </g>\n    <g id=\"ytick_4\">\n     <g id=\"line2d_25\">\n      <path d=\"M 58.523438 171.14072 \nL 415.643438 171.14072 \n\" clip-path=\"url(#p32dfc70754)\" style=\"fill: none; stroke: #b0b0b0; stroke-width: 0.8; stroke-linecap: square\"/>\n     </g>\n     <g id=\"line2d_26\">\n      <g>\n       <use xlink:href=\"#m326901ac7d\" x=\"58.523438\" y=\"171.14072\" style=\"stroke: #000000; stroke-width: 0.8\"/>\n      </g>\n     </g>\n     <g id=\"text_14\">\n      <!-- −2.5 -->\n      <g transform=\"translate(27.240625 174.939939) scale(0.1 -0.1)\">\n       <use xlink:href=\"#DejaVuSans-2212\"/>\n       <use xlink:href=\"#DejaVuSans-32\" x=\"83.789062\"/>\n       <use xlink:href=\"#DejaVuSans-2e\" x=\"147.412109\"/>\n       <use xlink:href=\"#DejaVuSans-35\" x=\"179.199219\"/>\n      </g>\n     </g>\n    </g>\n    <g id=\"ytick_5\">\n     <g id=\"line2d_27\">\n      <path d=\"M 58.523438 140.256 \nL 415.643438 140.256 \n\" clip-path=\"url(#p32dfc70754)\" style=\"fill: none; stroke: #b0b0b0; stroke-width: 0.8; stroke-linecap: square\"/>\n     </g>\n     <g id=\"line2d_28\">\n      <g>\n       <use xlink:href=\"#m326901ac7d\" x=\"58.523438\" y=\"140.256\" style=\"stroke: #000000; stroke-width: 0.8\"/>\n      </g>\n     </g>\n     <g id=\"text_15\">\n      <!-- 0.0 -->\n      <g transform=\"translate(35.620313 144.055219) scale(0.1 -0.1)\">\n       <use xlink:href=\"#DejaVuSans-30\"/>\n       <use xlink:href=\"#DejaVuSans-2e\" x=\"63.623047\"/>\n       <use xlink:href=\"#DejaVuSans-30\" x=\"95.410156\"/>\n      </g>\n     </g>\n    </g>\n    <g id=\"ytick_6\">\n     <g id=\"line2d_29\">\n      <path d=\"M 58.523438 109.37128 \nL 415.643438 109.37128 \n\" clip-path=\"url(#p32dfc70754)\" style=\"fill: none; stroke: #b0b0b0; stroke-width: 0.8; stroke-linecap: square\"/>\n     </g>\n     <g id=\"line2d_30\">\n      <g>\n       <use xlink:href=\"#m326901ac7d\" x=\"58.523438\" y=\"109.37128\" style=\"stroke: #000000; stroke-width: 0.8\"/>\n      </g>\n     </g>\n     <g id=\"text_16\">\n      <!-- 2.5 -->\n      <g transform=\"translate(35.620313 113.170498) scale(0.1 -0.1)\">\n       <use xlink:href=\"#DejaVuSans-32\"/>\n       <use xlink:href=\"#DejaVuSans-2e\" x=\"63.623047\"/>\n       <use xlink:href=\"#DejaVuSans-35\" x=\"95.410156\"/>\n      </g>\n     </g>\n    </g>\n    <g id=\"ytick_7\">\n     <g id=\"line2d_31\">\n      <path d=\"M 58.523438 78.486559 \nL 415.643438 78.486559 \n\" clip-path=\"url(#p32dfc70754)\" style=\"fill: none; stroke: #b0b0b0; stroke-width: 0.8; stroke-linecap: square\"/>\n     </g>\n     <g id=\"line2d_32\">\n      <g>\n       <use xlink:href=\"#m326901ac7d\" x=\"58.523438\" y=\"78.486559\" style=\"stroke: #000000; stroke-width: 0.8\"/>\n      </g>\n     </g>\n     <g id=\"text_17\">\n      <!-- 5.0 -->\n      <g transform=\"translate(35.620313 82.285778) scale(0.1 -0.1)\">\n       <use xlink:href=\"#DejaVuSans-35\"/>\n       <use xlink:href=\"#DejaVuSans-2e\" x=\"63.623047\"/>\n       <use xlink:href=\"#DejaVuSans-30\" x=\"95.410156\"/>\n      </g>\n     </g>\n    </g>\n    <g id=\"ytick_8\">\n     <g id=\"line2d_33\">\n      <path d=\"M 58.523438 47.601839 \nL 415.643438 47.601839 \n\" clip-path=\"url(#p32dfc70754)\" style=\"fill: none; stroke: #b0b0b0; stroke-width: 0.8; stroke-linecap: square\"/>\n     </g>\n     <g id=\"line2d_34\">\n      <g>\n       <use xlink:href=\"#m326901ac7d\" x=\"58.523438\" y=\"47.601839\" style=\"stroke: #000000; stroke-width: 0.8\"/>\n      </g>\n     </g>\n     <g id=\"text_18\">\n      <!-- 7.5 -->\n      <g transform=\"translate(35.620313 51.401057) scale(0.1 -0.1)\">\n       <use xlink:href=\"#DejaVuSans-37\"/>\n       <use xlink:href=\"#DejaVuSans-2e\" x=\"63.623047\"/>\n       <use xlink:href=\"#DejaVuSans-35\" x=\"95.410156\"/>\n      </g>\n     </g>\n    </g>\n    <g id=\"ytick_9\">\n     <g id=\"line2d_35\">\n      <path d=\"M 58.523438 16.717118 \nL 415.643438 16.717118 \n\" clip-path=\"url(#p32dfc70754)\" style=\"fill: none; stroke: #b0b0b0; stroke-width: 0.8; stroke-linecap: square\"/>\n     </g>\n     <g id=\"line2d_36\">\n      <g>\n       <use xlink:href=\"#m326901ac7d\" x=\"58.523438\" y=\"16.717118\" style=\"stroke: #000000; stroke-width: 0.8\"/>\n      </g>\n     </g>\n     <g id=\"text_19\">\n      <!-- 10.0 -->\n      <g transform=\"translate(29.257813 20.516337) scale(0.1 -0.1)\">\n       <use xlink:href=\"#DejaVuSans-31\"/>\n       <use xlink:href=\"#DejaVuSans-30\" x=\"63.623047\"/>\n       <use xlink:href=\"#DejaVuSans-2e\" x=\"127.246094\"/>\n       <use xlink:href=\"#DejaVuSans-30\" x=\"159.033203\"/>\n      </g>\n     </g>\n    </g>\n    <g id=\"text_20\">\n     <!-- fx(x) -->\n     <g transform=\"translate(14.798438 151.836469) rotate(-90) scale(0.1 -0.1)\">\n      <defs>\n       <path id=\"DejaVuSans-66\" d=\"M 2375 4863 \nL 2375 4384 \nL 1825 4384 \nQ 1516 4384 1395 4259 \nQ 1275 4134 1275 3809 \nL 1275 3500 \nL 2222 3500 \nL 2222 3053 \nL 1275 3053 \nL 1275 0 \nL 697 0 \nL 697 3053 \nL 147 3053 \nL 147 3500 \nL 697 3500 \nL 697 3744 \nQ 697 4328 969 4595 \nQ 1241 4863 1831 4863 \nL 2375 4863 \nz\n\" transform=\"scale(0.015625)\"/>\n       <path id=\"DejaVuSans-28\" d=\"M 1984 4856 \nQ 1566 4138 1362 3434 \nQ 1159 2731 1159 2009 \nQ 1159 1288 1364 580 \nQ 1569 -128 1984 -844 \nL 1484 -844 \nQ 1016 -109 783 600 \nQ 550 1309 550 2009 \nQ 550 2706 781 3412 \nQ 1013 4119 1484 4856 \nL 1984 4856 \nz\n\" transform=\"scale(0.015625)\"/>\n       <path id=\"DejaVuSans-29\" d=\"M 513 4856 \nL 1013 4856 \nQ 1481 4119 1714 3412 \nQ 1947 2706 1947 2009 \nQ 1947 1309 1714 600 \nQ 1481 -109 1013 -844 \nL 513 -844 \nQ 928 -128 1133 580 \nQ 1338 1288 1338 2009 \nQ 1338 2731 1133 3434 \nQ 928 4138 513 4856 \nz\n\" transform=\"scale(0.015625)\"/>\n      </defs>\n      <use xlink:href=\"#DejaVuSans-66\"/>\n      <use xlink:href=\"#DejaVuSans-78\" x=\"35.205078\"/>\n      <use xlink:href=\"#DejaVuSans-28\" x=\"94.384766\"/>\n      <use xlink:href=\"#DejaVuSans-78\" x=\"133.398438\"/>\n      <use xlink:href=\"#DejaVuSans-29\" x=\"192.578125\"/>\n     </g>\n    </g>\n   </g>\n   <g id=\"line2d_37\">\n    <path d=\"M 58.523438 78.486559 \nL 60.666157 79.805612 \nL 62.808877 81.387641 \nL 65.130157 83.387131 \nL 67.629998 85.849835 \nL 70.308398 88.80506 \nL 73.522477 92.706485 \nL 77.629357 98.079001 \nL 87.450158 111.093501 \nL 90.664237 114.903647 \nL 93.342638 117.752321 \nL 95.842478 120.08778 \nL 98.163758 121.94257 \nL 100.306477 123.366148 \nL 102.270637 124.41741 \nL 104.234798 125.221502 \nL 106.198958 125.778628 \nL 108.163117 126.093476 \nL 110.127277 126.175128 \nL 112.091438 126.036885 \nL 114.234158 125.655677 \nL 116.555437 125.002472 \nL 119.055277 124.065387 \nL 122.090797 122.683273 \nL 127.090478 120.110757 \nL 131.911598 117.712628 \nL 134.947117 116.455053 \nL 137.446957 115.654502 \nL 139.768237 115.147613 \nL 141.910957 114.910798 \nL 143.875117 114.90627 \nL 145.839277 115.116512 \nL 147.803438 115.548224 \nL 149.767598 116.203654 \nL 151.731758 117.080555 \nL 153.874478 118.281769 \nL 156.195758 119.854395 \nL 158.695598 121.833968 \nL 161.552557 124.406147 \nL 164.945198 127.787519 \nL 170.301997 133.49919 \nL 175.658797 139.10011 \nL 178.872878 142.139581 \nL 181.551278 144.375095 \nL 183.872558 146.041531 \nL 186.015277 147.325157 \nL 188.157997 148.342368 \nL 190.122158 149.027383 \nL 192.086318 149.467901 \nL 193.871917 149.653541 \nL 195.657518 149.635453 \nL 197.621678 149.38509 \nL 199.585838 148.902569 \nL 201.728558 148.127581 \nL 203.871278 147.115735 \nL 206.371118 145.673669 \nL 209.228077 143.745172 \nL 212.799277 141.044256 \nL 222.620078 133.443836 \nL 225.477038 131.590401 \nL 227.976878 130.225001 \nL 230.298158 129.212706 \nL 232.440877 128.522249 \nL 234.405037 128.109815 \nL 236.369198 127.916925 \nL 238.333358 127.947455 \nL 240.297517 128.200793 \nL 242.261677 128.671846 \nL 244.404397 129.42278 \nL 246.725678 130.494868 \nL 249.225518 131.916115 \nL 252.082478 133.820225 \nL 255.653678 136.499115 \nL 266.188717 144.620676 \nL 269.045678 146.427105 \nL 271.366958 147.649619 \nL 273.509678 148.54625 \nL 275.652398 149.193815 \nL 277.616557 149.551137 \nL 279.580717 149.670599 \nL 281.366317 149.566733 \nL 283.151918 149.258217 \nL 285.116078 148.683671 \nL 287.080238 147.868175 \nL 289.044398 146.821594 \nL 291.187117 145.432927 \nL 293.508398 143.664547 \nL 296.186798 141.329931 \nL 299.400877 138.202038 \nL 303.864878 133.49919 \nL 311.007277 125.971348 \nL 314.221358 122.922485 \nL 316.899758 120.668608 \nL 319.399598 118.85443 \nL 321.720878 117.453165 \nL 323.863597 116.421046 \nL 325.827758 115.704803 \nL 327.791918 115.212111 \nL 329.756078 114.941947 \nL 331.720237 114.888816 \nL 333.862957 115.066676 \nL 336.005678 115.47254 \nL 338.326957 116.141607 \nL 341.005358 117.162438 \nL 344.219438 118.64884 \nL 350.111918 121.695589 \nL 354.218798 123.682457 \nL 357.075758 124.820306 \nL 359.575598 125.570554 \nL 361.718318 125.989414 \nL 363.682478 126.165893 \nL 365.646637 126.125332 \nL 367.610797 125.853686 \nL 369.574957 125.341089 \nL 371.539118 124.582047 \nL 373.503277 123.575537 \nL 375.467438 122.325029 \nL 377.610158 120.691956 \nL 379.931438 118.624552 \nL 382.431278 116.082768 \nL 385.288238 112.83317 \nL 388.680878 108.602122 \nL 393.501998 102.180451 \nL 400.465838 92.932533 \nL 403.858477 88.80506 \nL 406.715438 85.663958 \nL 409.215277 83.223173 \nL 411.536558 81.245951 \nL 413.857838 79.567343 \nL 415.643438 78.486559 \nL 415.643438 78.486559 \n\" clip-path=\"url(#p32dfc70754)\" style=\"fill: none; stroke: #1f77b4; stroke-width: 1.5; stroke-linecap: square\"/>\n   </g>\n   <g id=\"line2d_38\">\n    <path d=\"M 58.523438 189.671553 \nL 63.523118 215.039711 \nL 66.201517 227.478391 \nL 68.344238 236.431675 \nL 70.129837 243.043376 \nL 71.736877 248.233849 \nL 73.165357 252.182213 \nL 74.415278 255.086995 \nL 75.665198 257.451925 \nL 76.736558 259.033323 \nL 77.629357 260.028588 \nL 78.522157 260.725319 \nL 79.414957 261.119791 \nL 80.129198 261.216 \nL 80.843437 261.116377 \nL 81.557678 260.820676 \nL 82.450478 260.175736 \nL 83.343277 259.226416 \nL 84.236077 257.975487 \nL 85.307437 256.081909 \nL 86.557357 253.343335 \nL 87.807277 250.052408 \nL 89.235758 245.644401 \nL 90.842798 239.909474 \nL 92.628398 232.653709 \nL 94.592557 223.72203 \nL 96.913837 212.096951 \nL 99.770797 196.614031 \nL 105.841837 162.031562 \nL 109.413038 142.538379 \nL 111.912877 130.064088 \nL 114.055597 120.460719 \nL 115.841197 113.38354 \nL 117.448238 107.826193 \nL 118.876718 103.587544 \nL 120.305198 100.049506 \nL 121.555117 97.553573 \nL 122.626477 95.873287 \nL 123.697838 94.625178 \nL 124.590637 93.919198 \nL 125.483438 93.518952 \nL 126.197677 93.419329 \nL 126.911918 93.515538 \nL 127.626158 93.806837 \nL 128.518957 94.443376 \nL 129.411758 95.379289 \nL 130.483117 96.890903 \nL 131.554478 98.816556 \nL 132.804397 101.569481 \nL 134.232877 105.353662 \nL 135.661358 109.777708 \nL 137.268397 115.458767 \nL 139.232557 123.303304 \nL 141.375277 132.813037 \nL 144.053678 145.754524 \nL 148.517677 168.666167 \nL 152.981677 191.196046 \nL 155.660077 203.554476 \nL 157.802797 212.422134 \nL 159.588398 218.949423 \nL 161.195438 224.05494 \nL 162.623918 227.921549 \nL 163.873837 230.750653 \nL 165.123758 233.03665 \nL 166.195117 234.548264 \nL 167.087918 235.484177 \nL 167.980717 236.120716 \nL 168.873517 236.454394 \nL 169.587758 236.501695 \nL 170.301997 236.353057 \nL 171.016237 236.008354 \nL 171.909038 235.302375 \nL 172.801838 234.292473 \nL 173.873198 232.683736 \nL 174.944558 230.649206 \nL 176.194478 227.750739 \nL 177.444398 224.305997 \nL 178.872878 219.731167 \nL 180.479917 213.822001 \nL 182.265518 206.391922 \nL 184.408237 196.425412 \nL 186.908077 183.620895 \nL 190.122158 165.876475 \nL 198.693038 117.830602 \nL 201.192878 105.356311 \nL 203.335598 95.752943 \nL 205.121198 88.675763 \nL 206.728238 83.118417 \nL 208.156717 78.879767 \nL 209.585197 75.34173 \nL 210.835117 72.845797 \nL 211.906477 71.165511 \nL 212.977837 69.917402 \nL 213.870637 69.211422 \nL 214.763438 68.811175 \nL 215.477677 68.711553 \nL 216.191917 68.807762 \nL 216.906158 69.09906 \nL 217.798958 69.735599 \nL 218.691757 70.671512 \nL 219.763118 72.183126 \nL 220.834478 74.10878 \nL 222.084398 76.861704 \nL 223.512878 80.645885 \nL 224.941358 85.069931 \nL 226.548398 90.750991 \nL 228.512558 98.595527 \nL 230.655278 108.105261 \nL 233.333677 121.046748 \nL 237.797677 143.958391 \nL 242.261677 166.488269 \nL 244.940078 178.846699 \nL 247.082797 187.714357 \nL 248.868398 194.241646 \nL 250.475437 199.347164 \nL 251.903918 203.213773 \nL 253.153838 206.042877 \nL 254.403757 208.328874 \nL 255.475118 209.840488 \nL 256.367918 210.776401 \nL 257.260717 211.41294 \nL 258.153518 211.746617 \nL 258.867758 211.793919 \nL 259.581997 211.64528 \nL 260.296238 211.300578 \nL 261.189037 210.594598 \nL 262.081838 209.584696 \nL 263.153198 207.97596 \nL 264.224558 205.941429 \nL 265.474478 203.042962 \nL 266.724398 199.59822 \nL 268.152877 195.02339 \nL 269.759918 189.114225 \nL 271.545518 181.684146 \nL 273.688238 171.717635 \nL 276.188078 158.913119 \nL 279.402158 141.168698 \nL 287.973037 93.122826 \nL 290.472877 80.648535 \nL 292.615597 71.045167 \nL 294.401197 63.967987 \nL 296.008238 58.410641 \nL 297.436717 54.171991 \nL 298.865198 50.633954 \nL 300.115117 48.13802 \nL 301.186478 46.457734 \nL 302.257837 45.209625 \nL 303.150638 44.503646 \nL 304.043437 44.103399 \nL 304.757677 44.003776 \nL 305.471918 44.099986 \nL 306.186158 44.391284 \nL 307.078958 45.027823 \nL 307.971758 45.963736 \nL 309.043117 47.47535 \nL 310.114478 49.401004 \nL 311.364397 52.153928 \nL 312.792877 55.938109 \nL 314.221358 60.362155 \nL 315.828397 66.043214 \nL 317.792557 73.887751 \nL 319.935277 83.397485 \nL 322.613677 96.338971 \nL 327.077677 119.250614 \nL 331.541678 141.780493 \nL 334.220078 154.138923 \nL 336.362797 163.006581 \nL 338.148397 169.53387 \nL 339.755437 174.639387 \nL 341.183918 178.505996 \nL 342.433838 181.3351 \nL 343.683758 183.621097 \nL 344.755117 185.132711 \nL 345.647918 186.068624 \nL 346.540718 186.705163 \nL 347.433517 187.038841 \nL 348.147758 187.086143 \nL 348.861998 186.937504 \nL 349.576238 186.592802 \nL 350.469038 185.886822 \nL 351.361838 184.87692 \nL 352.433198 183.268183 \nL 353.504558 181.233653 \nL 354.754478 178.335186 \nL 356.004397 174.890444 \nL 357.432878 170.315614 \nL 359.039918 164.406449 \nL 360.825518 156.97637 \nL 362.968237 147.009859 \nL 365.468078 134.205343 \nL 368.682158 116.460922 \nL 377.253038 68.415049 \nL 379.752877 55.940758 \nL 381.895598 46.33739 \nL 383.681197 39.26021 \nL 385.288238 33.702864 \nL 386.716718 29.464214 \nL 388.145197 25.926177 \nL 389.395117 23.430244 \nL 390.466477 21.749958 \nL 391.537838 20.501849 \nL 392.430637 19.795869 \nL 393.323438 19.395623 \nL 394.037677 19.296 \nL 394.751917 19.392209 \nL 395.466158 19.683508 \nL 396.358958 20.320047 \nL 397.251757 21.25596 \nL 398.323117 22.767573 \nL 399.394477 24.693227 \nL 400.644398 27.446151 \nL 402.072878 31.230333 \nL 403.501357 35.654379 \nL 405.108398 41.335438 \nL 407.072558 49.179975 \nL 409.215277 58.689708 \nL 411.893678 71.631195 \nL 415.643438 90.840447 \nL 415.643438 90.840447 \n\" clip-path=\"url(#p32dfc70754)\" style=\"fill: none; stroke: #ff7f0e; stroke-width: 1.5; stroke-linecap: square\"/>\n   </g>\n   <g id=\"patch_3\">\n    <path d=\"M 58.523438 273.312 \nL 58.523438 7.2 \n\" style=\"fill: none; stroke: #000000; stroke-width: 0.8; stroke-linejoin: miter; stroke-linecap: square\"/>\n   </g>\n   <g id=\"patch_4\">\n    <path d=\"M 415.643438 273.312 \nL 415.643438 7.2 \n\" style=\"fill: none; stroke: #000000; stroke-width: 0.8; stroke-linejoin: miter; stroke-linecap: square\"/>\n   </g>\n   <g id=\"patch_5\">\n    <path d=\"M 58.523438 273.312 \nL 415.643438 273.312 \n\" style=\"fill: none; stroke: #000000; stroke-width: 0.8; stroke-linejoin: miter; stroke-linecap: square\"/>\n   </g>\n   <g id=\"patch_6\">\n    <path d=\"M 58.523438 7.2 \nL 415.643438 7.2 \n\" style=\"fill: none; stroke: #000000; stroke-width: 0.8; stroke-linejoin: miter; stroke-linecap: square\"/>\n   </g>\n   <g id=\"legend_1\">\n    <g id=\"patch_7\">\n     <path d=\"M 65.523438 44.55625 \nL 109.790625 44.55625 \nQ 111.790625 44.55625 111.790625 42.55625 \nL 111.790625 14.2 \nQ 111.790625 12.2 109.790625 12.2 \nL 65.523438 12.2 \nQ 63.523438 12.2 63.523438 14.2 \nL 63.523438 42.55625 \nQ 63.523438 44.55625 65.523438 44.55625 \nz\n\" style=\"fill: #ffffff; opacity: 0.8; stroke: #cccccc; stroke-linejoin: miter\"/>\n    </g>\n    <g id=\"line2d_39\">\n     <path d=\"M 67.523438 20.298437 \nL 77.523438 20.298437 \nL 87.523438 20.298437 \n\" style=\"fill: none; stroke: #1f77b4; stroke-width: 1.5; stroke-linecap: square\"/>\n    </g>\n    <g id=\"text_21\">\n     <!-- y -->\n     <g transform=\"translate(95.523438 23.798437) scale(0.1 -0.1)\">\n      <defs>\n       <path id=\"DejaVuSans-79\" d=\"M 2059 -325 \nQ 1816 -950 1584 -1140 \nQ 1353 -1331 966 -1331 \nL 506 -1331 \nL 506 -850 \nL 844 -850 \nQ 1081 -850 1212 -737 \nQ 1344 -625 1503 -206 \nL 1606 56 \nL 191 3500 \nL 800 3500 \nL 1894 763 \nL 2988 3500 \nL 3597 3500 \nL 2059 -325 \nz\n\" transform=\"scale(0.015625)\"/>\n      </defs>\n      <use xlink:href=\"#DejaVuSans-79\"/>\n     </g>\n    </g>\n    <g id=\"line2d_40\">\n     <path d=\"M 67.523438 34.976562 \nL 77.523438 34.976562 \nL 87.523438 34.976562 \n\" style=\"fill: none; stroke: #ff7f0e; stroke-width: 1.5; stroke-linecap: square\"/>\n    </g>\n    <g id=\"text_22\">\n     <!-- dy -->\n     <g transform=\"translate(95.523438 38.476562) scale(0.1 -0.1)\">\n      <defs>\n       <path id=\"DejaVuSans-64\" d=\"M 2906 2969 \nL 2906 4863 \nL 3481 4863 \nL 3481 0 \nL 2906 0 \nL 2906 525 \nQ 2725 213 2448 61 \nQ 2172 -91 1784 -91 \nQ 1150 -91 751 415 \nQ 353 922 353 1747 \nQ 353 2572 751 3078 \nQ 1150 3584 1784 3584 \nQ 2172 3584 2448 3432 \nQ 2725 3281 2906 2969 \nz\nM 947 1747 \nQ 947 1113 1208 752 \nQ 1469 391 1925 391 \nQ 2381 391 2643 752 \nQ 2906 1113 2906 1747 \nQ 2906 2381 2643 2742 \nQ 2381 3103 1925 3103 \nQ 1469 3103 1208 2742 \nQ 947 2381 947 1747 \nz\n\" transform=\"scale(0.015625)\"/>\n      </defs>\n      <use xlink:href=\"#DejaVuSans-64\"/>\n      <use xlink:href=\"#DejaVuSans-79\" x=\"63.476562\"/>\n     </g>\n    </g>\n   </g>\n  </g>\n </g>\n <defs>\n  <clipPath id=\"p32dfc70754\">\n   <rect x=\"58.523438\" y=\"7.2\" width=\"357.12\" height=\"266.112\"/>\n  </clipPath>\n </defs>\n</svg>\n"
     },
     "metadata": {},
     "output_type": "display_data"
    }
   ],
   "execution_count": 19
  },
  {
   "cell_type": "code",
   "metadata": {
    "id": "r-f27UUkZYpG",
    "ExecuteTime": {
     "end_time": "2025-04-09T21:11:14.522828Z",
     "start_time": "2025-04-09T21:11:14.511880Z"
    }
   },
   "source": "\n",
   "outputs": [
    {
     "name": "stdout",
     "output_type": "stream",
     "text": [
      "2\n",
      "0\n"
     ]
    }
   ],
   "execution_count": 28
  },
  {
   "metadata": {},
   "cell_type": "code",
   "outputs": [],
   "execution_count": null,
   "source": ""
  },
  {
   "cell_type": "code",
   "metadata": {
    "id": "-nzWuHfWVHyU"
   },
   "source": [
    "# random starting point\n",
    "localmin = np.random.choice(x,1)\n",
    "print(localmin)\n",
    "\n",
    "# learning parameters\n",
    "learning_rate = .01\n",
    "training_epochs = 100\n",
    "\n",
    "# run through training\n",
    "for i in range(training_epochs):\n",
    "  grad = df_dx(localmin)\n",
    "  localmin = localmin - learning_rate*grad\n",
    "\n",
    "localmin"
   ],
   "outputs": [],
   "execution_count": null
  },
  {
   "cell_type": "code",
   "metadata": {
    "id": "3hIord_pVIU8"
   },
   "source": [
    "# plot the results\n",
    "\n",
    "plt.plot(x,fx(x), x,df_dx(x))\n",
    "plt.plot(localmin,df_dx(localmin),'ro')\n",
    "plt.plot(localmin,fx(localmin),'ro')\n",
    "\n",
    "plt.xlim(x[[0,-1]])\n",
    "plt.grid()\n",
    "plt.xlabel('x')\n",
    "plt.ylabel('f(x)')\n",
    "plt.legend(['f(x)','df','f(x) min'])\n",
    "plt.title('Empirical local minimum: %s'%localmin[0])\n",
    "plt.show()"
   ],
   "outputs": [],
   "execution_count": null
  },
  {
   "cell_type": "markdown",
   "metadata": {
    "id": "AKN5ul4YVIYb"
   },
   "source": [
    "# Store the model parameters and outputs on each iteration"
   ]
  },
  {
   "cell_type": "code",
   "metadata": {
    "id": "M22aVI6xVIbk"
   },
   "source": [
    "# random starting point\n",
    "localmin = np.random.choice(x,1)\n",
    "\n",
    "# learning parameters\n",
    "learning_rate = .01\n",
    "training_epochs = 100\n",
    "\n",
    "# run through training and store all the results\n",
    "modelparams = np.zeros((training_epochs,2))\n",
    "for i in range(training_epochs):\n",
    "  grad = deriv(localmin)\n",
    "  localmin = localmin - learning_rate*grad\n",
    "  modelparams[i,0] = localmin[0]\n",
    "  modelparams[i,1] = grad[0]\n"
   ],
   "outputs": [],
   "execution_count": null
  },
  {
   "cell_type": "code",
   "metadata": {
    "id": "AInqnFtkVIeb"
   },
   "source": [
    "# plot the gradient over iterations\n",
    "\n",
    "fig,ax = plt.subplots(1,2,figsize=(12,4))\n",
    "\n",
    "for i in range(2):\n",
    "  ax[i].plot(modelparams[:,i],'o-')\n",
    "  ax[i].set_xlabel('Iteration')\n",
    "  ax[i].set_title(f'Final estimated minimum: {localmin[0]:.5f}')\n",
    "\n",
    "ax[0].set_ylabel('Local minimum')\n",
    "ax[1].set_ylabel('Derivative')\n",
    "\n",
    "plt.show()"
   ],
   "outputs": [],
   "execution_count": null
  },
  {
   "cell_type": "code",
   "metadata": {
    "id": "MAGG5fMMVIhM"
   },
   "source": [],
   "outputs": [],
   "execution_count": null
  },
  {
   "cell_type": "markdown",
   "metadata": {
    "id": "Uh28k_l29urR"
   },
   "source": [
    "# Additional explorations"
   ]
  },
  {
   "cell_type": "code",
   "metadata": {
    "id": "ib3uQtfv9wE2"
   },
   "source": [
    "# 1) Most often in DL, the model trains for a set number of iterations, which is what we do here. But there are other ways\n",
    "#    of defining how long the training lasts. Modify the code so that training ends when the derivative is smaller than \n",
    "#    some threshold, e.g., 0.1. Make sure your code is robust for negative derivatives.\n",
    "# \n",
    "# 2) Does this change to the code produce a more accurate result? What if you change the stopping threshold?\n",
    "# \n",
    "# 3) Can you think of any potential problems that might arise when the stopping criterion is based on the derivative \n",
    "#    instead of a specified number of training epochs?\n",
    "# "
   ],
   "outputs": [],
   "execution_count": null
  }
 ]
}
