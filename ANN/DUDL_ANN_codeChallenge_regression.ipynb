{
 "cells": [
  {
   "cell_type": "markdown",
   "metadata": {
    "id": "bhWV8oes-wKR"
   },
   "source": [
    "# COURSE: A deep understanding of deep learning\n",
    "## SECTION: ANNs\n",
    "### LECTURE: ANN for regression\n",
    "#### TEACHER: Mike X Cohen, sincxpress.com\n",
    "##### COURSE URL: udemy.com/course/deeplearning_x/?couponCode=202401"
   ]
  },
  {
   "cell_type": "code",
   "metadata": {
    "executionInfo": {
     "elapsed": 6032,
     "status": "ok",
     "timestamp": 1687666427558,
     "user": {
      "displayName": "Mike X Cohen",
      "userId": "13901636194183843661"
     },
     "user_tz": -180
    },
    "id": "j7-LiwqUMGYL"
   },
   "source": [
    "# import libraries\n",
    "import numpy as np\n",
    "import torch\n",
    "import torch.nn as nn\n",
    "import matplotlib.pyplot as plt\n",
    "import matplotlib_inline.backend_inline\n",
    "matplotlib_inline.backend_inline.set_matplotlib_formats('svg')"
   ],
   "outputs": [],
   "execution_count": null
  },
  {
   "cell_type": "markdown",
   "metadata": {
    "id": "A9Du0kOne6x4"
   },
   "source": [
    "# A function that creates and trains the model"
   ]
  },
  {
   "cell_type": "code",
   "metadata": {
    "executionInfo": {
     "elapsed": 18,
     "status": "ok",
     "timestamp": 1687666427559,
     "user": {
      "displayName": "Mike X Cohen",
      "userId": "13901636194183843661"
     },
     "user_tz": -180
    },
    "id": "krQeh5wYMNla"
   },
   "source": [
    "def buildAndTrainTheModel(x,y):\n",
    "\n",
    "  # build the model\n",
    "  ANNreg = nn.Sequential(\n",
    "      nn.Linear(1,1),  # input layer\n",
    "      nn.ReLU(),       # activation function\n",
    "      nn.Linear(1,1)   # output layer\n",
    "      )\n",
    "\n",
    "  # loss and optimizer functions\n",
    "  lossfun = nn.MSELoss()\n",
    "  optimizer = torch.optim.SGD(ANNreg.parameters(),lr=.05)\n",
    "\n",
    "\n",
    "  #### train the model\n",
    "  numepochs = 500\n",
    "  losses = torch.zeros(numepochs)\n",
    "\n",
    "  for epochi in range(numepochs):\n",
    "\n",
    "    # forward pass\n",
    "    yHat = ANNreg(x)\n",
    "\n",
    "    # compute loss\n",
    "    loss = lossfun(yHat,y)\n",
    "    losses[epochi] = loss\n",
    "\n",
    "    # backprop\n",
    "    optimizer.zero_grad()\n",
    "    loss.backward()\n",
    "    optimizer.step()\n",
    "  # end training loop\n",
    "\n",
    "\n",
    "  ### compute model predictions\n",
    "  predictions = ANNreg(x)\n",
    "\n",
    "\n",
    "  # output:\n",
    "  return predictions, losses"
   ],
   "outputs": [],
   "execution_count": null
  },
  {
   "cell_type": "markdown",
   "metadata": {
    "id": "Z1EllwUThGcO"
   },
   "source": [
    "# A function that creates the data"
   ]
  },
  {
   "cell_type": "code",
   "metadata": {
    "executionInfo": {
     "elapsed": 17,
     "status": "ok",
     "timestamp": 1687666427559,
     "user": {
      "displayName": "Mike X Cohen",
      "userId": "13901636194183843661"
     },
     "user_tz": -180
    },
    "id": "j-SP8NPsMNRL"
   },
   "source": [
    "def createTheData(m):\n",
    "  N = 50\n",
    "  x = torch.randn(N,1)\n",
    "  y = m*x + torch.randn(N,1)/2\n",
    "  return x,y"
   ],
   "outputs": [],
   "execution_count": null
  },
  {
   "cell_type": "markdown",
   "metadata": {
    "id": "zWHtd2I4lQ1T"
   },
   "source": [
    "# Test it once"
   ]
  },
  {
   "cell_type": "code",
   "metadata": {
    "colab": {
     "base_uri": "https://localhost:8080/",
     "height": 397
    },
    "executionInfo": {
     "elapsed": 417,
     "status": "ok",
     "timestamp": 1687666427960,
     "user": {
      "displayName": "Mike X Cohen",
      "userId": "13901636194183843661"
     },
     "user_tz": -180
    },
    "id": "zmX6K49WMNuy",
    "outputId": "db9892c7-ce17-474e-fa4e-cfb4b95a2fbe"
   },
   "source": [
    "# create a dataset\n",
    "x,y = createTheData(.8)\n",
    "\n",
    "# run the model\n",
    "yHat,losses = buildAndTrainTheModel(x,y)\n",
    "yHat = yHat.detach()\n",
    "\n",
    "fig,ax = plt.subplots(1,2,figsize=(12,4))\n",
    "\n",
    "ax[0].plot(losses.detach(),'o',markerfacecolor='w',linewidth=.1)\n",
    "ax[0].set_xlabel('Epoch')\n",
    "ax[0].set_title('Loss')\n",
    "\n",
    "ax[1].plot(x,y,'bo',label='Real data')\n",
    "ax[1].plot(x,yHat,'rs',label='Predictions')\n",
    "ax[1].set_xlabel('x')\n",
    "ax[1].set_ylabel('y')\n",
    "ax[1].set_title(f'prediction-data corr = {np.corrcoef(y.T,yHat.detach().T)[0,1]:.2f}')\n",
    "ax[1].legend()\n",
    "\n",
    "plt.show()"
   ],
   "outputs": [],
   "execution_count": null
  },
  {
   "cell_type": "markdown",
   "metadata": {
    "id": "Okh-KSKjlaly"
   },
   "source": [
    "# Now for the experiment!"
   ]
  },
  {
   "cell_type": "code",
   "metadata": {
    "colab": {
     "base_uri": "https://localhost:8080/"
    },
    "executionInfo": {
     "elapsed": 182644,
     "status": "ok",
     "timestamp": 1687666610599,
     "user": {
      "displayName": "Mike X Cohen",
      "userId": "13901636194183843661"
     },
     "user_tz": -180
    },
    "id": "NMoo3Oq_lcW2",
    "outputId": "9390a81b-2972-4995-b99a-ac84486f8f47"
   },
   "source": [
    "# (takes 3 mins with 21 slopes and 50 exps)\n",
    "\n",
    "# the slopes to simulate\n",
    "slopes = np.linspace(-2,2,21)\n",
    "\n",
    "numExps = 50\n",
    "\n",
    "# initialize output matrix\n",
    "results = np.zeros((len(slopes),numExps,2))\n",
    "\n",
    "for slopei in range(len(slopes)):\n",
    "\n",
    "  for N in range(numExps):\n",
    "\n",
    "    # create a dataset and run the model\n",
    "    x,y = createTheData(slopes[slopei])\n",
    "    yHat,losses = buildAndTrainTheModel(x,y)\n",
    "    yHat = yHat.detach()\n",
    "\n",
    "    # store the final loss and performance\n",
    "    results[slopei,N,0] = losses[-1]\n",
    "    results[slopei,N,1] = np.corrcoef(y.T,yHat.detach().T)[0,1]\n",
    "\n",
    "\n",
    "# correlation can be 0 if the model didn't do well. Set nan's->0\n",
    "results[np.isnan(results)] = 0"
   ],
   "outputs": [],
   "execution_count": null
  },
  {
   "cell_type": "code",
   "metadata": {
    "colab": {
     "base_uri": "https://localhost:8080/",
     "height": 397
    },
    "executionInfo": {
     "elapsed": 414,
     "status": "ok",
     "timestamp": 1687666611008,
     "user": {
      "displayName": "Mike X Cohen",
      "userId": "13901636194183843661"
     },
     "user_tz": -180
    },
    "id": "ZgycGOVQlcZ3",
    "outputId": "4ce3be9f-c96c-4893-cdc9-63995d63c400"
   },
   "source": [
    "# plot the results!\n",
    "\n",
    "fig,ax = plt.subplots(1,2,figsize=(12,4))\n",
    "\n",
    "ax[0].plot(slopes,np.mean(results[:,:,0],axis=1),'ko-',markerfacecolor='w',markersize=10)\n",
    "ax[0].set_xlabel('Slope')\n",
    "ax[0].set_title('Loss')\n",
    "\n",
    "ax[1].plot(slopes,np.mean(results[:,:,1],axis=1),'ms-',markerfacecolor='w',markersize=10)\n",
    "ax[1].set_xlabel('Slope')\n",
    "ax[1].set_ylabel('Real-predicted correlation')\n",
    "ax[1].set_title('Model performance')\n",
    "\n",
    "plt.show()"
   ],
   "outputs": [],
   "execution_count": null
  },
  {
   "cell_type": "code",
   "metadata": {
    "colab": {
     "base_uri": "https://localhost:8080/",
     "height": 456
    },
    "executionInfo": {
     "elapsed": 425,
     "status": "ok",
     "timestamp": 1687666611430,
     "user": {
      "displayName": "Mike X Cohen",
      "userId": "13901636194183843661"
     },
     "user_tz": -180
    },
    "id": "pctwAH1ClcfH",
    "outputId": "06fb4119-b895-4ece-c0ae-ff6c2d4ab24b"
   },
   "source": [
    "# extra code to visualize data with different slopes\n",
    "\n",
    "m = 2\n",
    "\n",
    "x,y = createTheData(m)\n",
    "\n",
    "plt.title('Slope = ' + str(m))\n",
    "plt.plot(x,y,'o')\n",
    "plt.ylim([-4,4])\n",
    "plt.xlabel('x')\n",
    "plt.ylabel('y')\n",
    "plt.show()"
   ],
   "outputs": [],
   "execution_count": null
  },
  {
   "cell_type": "code",
   "metadata": {
    "executionInfo": {
     "elapsed": 8,
     "status": "ok",
     "timestamp": 1687666611431,
     "user": {
      "displayName": "Mike X Cohen",
      "userId": "13901636194183843661"
     },
     "user_tz": -180
    },
    "id": "vGkQUzqhUFpq"
   },
   "source": [],
   "outputs": [],
   "execution_count": null
  }
 ],
 "metadata": {
  "colab": {
   "provenance": [
    {
     "file_id": "1Q_oDw0aMA4QFKDnLxuqJp62P8oPMtO1R",
     "timestamp": 1618589982227
    },
    {
     "file_id": "1FtQ99beHYcDFDywLdaPgFm-KjBeI8PvD",
     "timestamp": 1615884593383
    }
   ]
  },
  "kernelspec": {
   "display_name": "Python 3 (ipykernel)",
   "language": "python",
   "name": "python3"
  },
  "language_info": {
   "codemirror_mode": {
    "name": "ipython",
    "version": 3
   },
   "file_extension": ".py",
   "mimetype": "text/x-python",
   "name": "python",
   "nbconvert_exporter": "python",
   "pygments_lexer": "ipython3",
   "version": "3.9.6"
  }
 },
 "nbformat": 4,
 "nbformat_minor": 4
}
